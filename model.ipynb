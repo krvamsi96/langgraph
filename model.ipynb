{
 "cells": [
  {
   "cell_type": "code",
   "execution_count": 8,
   "id": "04b801af",
   "metadata": {},
   "outputs": [],
   "source": [
    "from langgraph.graph import StateGraph, END\n",
    "from typing import TypedDict\n",
    "from langchain_ollama.chat_models import ChatOllama"
   ]
  },
  {
   "cell_type": "code",
   "execution_count": 9,
   "id": "17144868",
   "metadata": {},
   "outputs": [],
   "source": [
    "class AgentState(TypedDict):\n",
    "    user_input: str\n",
    "    llm_output: str\n"
   ]
  },
  {
   "cell_type": "code",
   "execution_count": 10,
   "id": "eefdb55e",
   "metadata": {},
   "outputs": [],
   "source": [
    "llm = ChatOllama(model=\"gemma3:latest\",temperature=0.1)\n"
   ]
  },
  {
   "cell_type": "code",
   "execution_count": 11,
   "id": "9e6788b7",
   "metadata": {},
   "outputs": [],
   "source": [
    "def generate_pycaret_code(state: AgentState) -> AgentState:\n",
    "    prompt = \"\"\"\n",
    "You are a helpful Python assistant.\n",
    "\n",
    "Generate complete Python code using PyCaret to detect credit card fraud.\n",
    "\n",
    "Dataset: 'creditcard 1.csv'\n",
    "Target column: 'Class' (1 = fraud, 0 = normal)\n",
    "\n",
    "The code should:\n",
    "1. Import required libraries\n",
    "2. Load the dataset\n",
    "3. Set up PyCaret for classification\n",
    "4. Compare and train models\n",
    "5. Predict fraud\n",
    "6. Print results\n",
    "\n",
    "Ensure the code is ready to run end-to-end.\n",
    "\"\"\"\n",
    "    response = llm.invoke(prompt)\n",
    "    return {\n",
    "        \"user_input\": state[\"user_input\"],\n",
    "        \"llm_output\": response.content\n",
    "    }"
   ]
  },
  {
   "cell_type": "code",
   "execution_count": 12,
   "id": "5d3bb9bc",
   "metadata": {},
   "outputs": [
    {
     "data": {
      "text/plain": [
       "<langgraph.graph.state.StateGraph at 0x25205a6f390>"
      ]
     },
     "execution_count": 12,
     "metadata": {},
     "output_type": "execute_result"
    }
   ],
   "source": [
    "graph = StateGraph(AgentState)\n",
    "graph.add_node(\"generate_code\", generate_pycaret_code)\n",
    "graph.set_entry_point(\"generate_code\")\n",
    "graph.set_finish_point(\"generate_code\")"
   ]
  },
  {
   "cell_type": "code",
   "execution_count": 13,
   "id": "cd59d6ab",
   "metadata": {},
   "outputs": [],
   "source": [
    "app = graph.compile()"
   ]
  },
  {
   "cell_type": "code",
   "execution_count": 14,
   "id": "5f93e78f",
   "metadata": {},
   "outputs": [
    {
     "name": "stdout",
     "output_type": "stream",
     "text": [
      "\n",
      "Generated PyCaret Code:\n",
      "\n",
      "```python\n",
      "import pandas as pd\n",
      "from pycaret.classification import *\n",
      "\n",
      "# 1. Import required libraries\n",
      "# 2. Load the dataset\n",
      "try:\n",
      "    df = pd.read_csv('creditcard 1.csv')\n",
      "except FileNotFoundError:\n",
      "    print(\"Error: 'creditcard 1.csv' not found.  Please ensure the file is in the same directory as the script.\")\n",
      "    exit()\n",
      "\n",
      "# 3. Set up PyCaret for classification\n",
      "# Set the working directory\n",
      "# set_option('experiment_name', 'creditcard_fraud_detection') # Optional: Set experiment name\n",
      "\n",
      "# Load the dataset\n",
      "# data = pd.read_csv('creditcard 1.csv') # Already loaded above\n",
      "\n",
      "# 4. Compare and train models\n",
      "# Prepare the data\n",
      "# data = prepare_data(data)\n",
      "\n",
      "# Train models\n",
      "# models = compare_models(data, fold=5) # Use 5-fold cross-validation\n",
      "\n",
      "# 5. Predict fraud\n",
      "# Predict on the holdout set\n",
      "# predictions = predict_model(models, data)\n",
      "\n",
      "# 6. Print results\n",
      "# Print the predictions\n",
      "# print(predictions)\n",
      "\n",
      "# Print the best model\n",
      "# print(best_model)\n",
      "\n",
      "# Print the best model score\n",
      "# print(best_score)\n",
      "\n",
      "# Print the confusion matrix\n",
      "# print(confusion_matrix(predictions))\n",
      "\n",
      "# Print the classification report\n",
      "# print(classification_report(predictions, data['Class']))\n",
      "\n",
      "# Save the best model\n",
      "# save_model(best_model, 'creditcard_fraud_model')\n",
      "\n",
      "# Load the best model\n",
      "# loaded_model = load_model('creditcard_fraud_model')\n",
      "\n",
      "# Make predictions using the loaded model\n",
      "# predictions = predict_model(loaded_model, data)\n",
      "\n",
      "# Print the predictions\n",
      "# print(predictions)\n",
      "\n",
      "# Evaluate the model\n",
      "# evaluate_model(loaded_model, data)\n",
      "\n",
      "# Example usage:\n",
      "# print(predict_model(loaded_model, data))\n",
      "```\n"
     ]
    }
   ],
   "source": [
    "if __name__ == \"__main__\":\n",
    "    user_question = \"Generate fraud detection code using PyCaret\"\n",
    "    result = app.invoke({\"user_input\": user_question})\n",
    "\n",
    "    print(\"\\nGenerated PyCaret Code:\\n\")\n",
    "    print(result[\"llm_output\"])"
   ]
  },
  {
   "cell_type": "code",
   "execution_count": null,
   "id": "7558afa8",
   "metadata": {},
   "outputs": [],
   "source": []
  }
 ],
 "metadata": {
  "kernelspec": {
   "display_name": "my_virtual_env",
   "language": "python",
   "name": "python3"
  },
  "language_info": {
   "codemirror_mode": {
    "name": "ipython",
    "version": 3
   },
   "file_extension": ".py",
   "mimetype": "text/x-python",
   "name": "python",
   "nbconvert_exporter": "python",
   "pygments_lexer": "ipython3",
   "version": "3.13.5"
  }
 },
 "nbformat": 4,
 "nbformat_minor": 5
}
